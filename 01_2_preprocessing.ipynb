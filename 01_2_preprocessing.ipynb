{
 "cells": [
  {
   "cell_type": "code",
   "execution_count": 3,
   "id": "1e1bcb5f",
   "metadata": {},
   "outputs": [],
   "source": [
    "from PIL import Image\n",
    "import glob\n",
    "import os\n",
    "import numpy as np\n",
    "import cv2\n",
    "import matplotlib.pyplot as plt"
   ]
  },
  {
   "cell_type": "code",
   "execution_count": 4,
   "id": "a229880a",
   "metadata": {},
   "outputs": [],
   "source": [
    "def main():\n",
    "    \n",
    "    path_list = glob.glob('Do_File(png)/*/*/*')\n",
    "\n",
    "    for path in path_list:\n",
    "\n",
    "        # 경로정보들 뽑아내기 (저장경로 설정용)\n",
    "        path_name_list = path.split('\\\\')\n",
    "        # 파일 제목만 뽑아내기 (저장경로 설정용)\n",
    "        file_name = path_name_list[-1].split('.')[0]\n",
    "\n",
    "        # 이미지 파일 불러오기\n",
    "        image = Image.open(path)\n",
    "        # array 형태로 바꾸기\n",
    "        img_arr = np.array(image)\n",
    "        # gray\n",
    "        image_gray = cv2.cvtColor(img_arr, cv2.COLOR_BGR2GRAY)\n",
    "        # blurr\n",
    "        image_blurr = cv2.GaussianBlur(image_gray, (5,5,), 0)\n",
    "        # edged\n",
    "        image_edged = cv2.Canny(image_blurr, 75, 200)\n",
    "\n",
    "#         # 저장경로 정하기(npy)\n",
    "#         save_path = f'pre2(npy)/{path_name_list[1]}/{path_name_list[2]}/'\n",
    "#         # 저장경로에 필요한 폴더들 반들기\n",
    "#         os.makedirs(save_path, exist_ok = True)\n",
    "\n",
    "#         # npy파일 저장하기\n",
    "#         np.save(f'{save_path}{file_name}.npy', image_edged)\n",
    "\n",
    "        # 저장경로 정하기(png)\n",
    "        save_path = f'pre2(png)/{path_name_list[1]}/{path_name_list[2]}/'\n",
    "        # 저장경로에 필요한 폴더들 반들기\n",
    "        os.makedirs(save_path, exist_ok = True)\n",
    "\n",
    "        # img파일 저장하기\n",
    "        img = Image.fromarray(image_edged)\n",
    "        img.save(f'{save_path}{file_name}.png')"
   ]
  },
  {
   "cell_type": "code",
   "execution_count": 5,
   "id": "1663ef9f",
   "metadata": {},
   "outputs": [],
   "source": [
    "main()"
   ]
  },
  {
   "cell_type": "code",
   "execution_count": null,
   "id": "eb8af586",
   "metadata": {},
   "outputs": [],
   "source": []
  }
 ],
 "metadata": {
  "kernelspec": {
   "display_name": "Python 3 (ipykernel)",
   "language": "python",
   "name": "python3"
  },
  "language_info": {
   "codemirror_mode": {
    "name": "ipython",
    "version": 3
   },
   "file_extension": ".py",
   "mimetype": "text/x-python",
   "name": "python",
   "nbconvert_exporter": "python",
   "pygments_lexer": "ipython3",
   "version": "3.9.7"
  }
 },
 "nbformat": 4,
 "nbformat_minor": 5
}
