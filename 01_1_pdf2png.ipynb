{
 "cells": [
  {
   "cell_type": "code",
   "execution_count": 31,
   "id": "5b53fdf6",
   "metadata": {},
   "outputs": [],
   "source": [
    "import glob\n",
    "import os\n",
    "import fitz"
   ]
  },
  {
   "cell_type": "code",
   "execution_count": 33,
   "id": "5d52c20b",
   "metadata": {},
   "outputs": [],
   "source": [
    "def main():\n",
    "    # 경로 정보 가져오기 (이 코드 파일은 DO File 폴더와 같은 위치에 있으면 됩니다)\n",
    "    path_list = glob.glob('*/*/*/*')\n",
    "    for path in path_list:\n",
    "    \n",
    "        # 경로정보들 뽑아내기 (저장경로 설정용)\n",
    "        path_name_list = path.split('\\\\')\n",
    "        # 파일 제목만 뽑아내기 (저장경로 설정용)\n",
    "        file_name = path_name_list[-1].split('.')[0]\n",
    "\n",
    "        # 파일 열기\n",
    "        doc = fitz.open(path)\n",
    "        for i, page in enumerate(doc):\n",
    "\n",
    "            #img 파일로 전환하기\n",
    "            img = page.get_pixmap(dpi=300)\n",
    "\n",
    "            # 저장경로 정하기\n",
    "            save_path = f'{path_name_list[0]}(png)/{path_name_list[1]}/{path_name_list[2]}/'\n",
    "            # 저장경로에 필요한 폴더들 반들기\n",
    "            os.makedirs(save_path, exist_ok = True)\n",
    "\n",
    "            # img파일 저장하기\n",
    "            img.save(f'{save_path}{file_name}.png')"
   ]
  },
  {
   "cell_type": "code",
   "execution_count": 34,
   "id": "24cb49e8",
   "metadata": {},
   "outputs": [],
   "source": [
    "main()"
   ]
  },
  {
   "cell_type": "code",
   "execution_count": null,
   "id": "e0decf28",
   "metadata": {},
   "outputs": [],
   "source": []
  }
 ],
 "metadata": {
  "kernelspec": {
   "display_name": "Python 3 (ipykernel)",
   "language": "python",
   "name": "python3"
  },
  "language_info": {
   "codemirror_mode": {
    "name": "ipython",
    "version": 3
   },
   "file_extension": ".py",
   "mimetype": "text/x-python",
   "name": "python",
   "nbconvert_exporter": "python",
   "pygments_lexer": "ipython3",
   "version": "3.9.7"
  }
 },
 "nbformat": 4,
 "nbformat_minor": 5
}
